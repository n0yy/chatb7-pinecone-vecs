{
 "cells": [
  {
   "cell_type": "code",
   "execution_count": null,
   "metadata": {},
   "outputs": [],
   "source": [
    "from dotenv import load_dotenv\n",
    "\n",
    "from langchain.document_loaders import PyPDFLoader\n",
    "from langchain.text_splitter import RecursiveCharacterTextSplitter\n",
    "\n",
    "from pinecone import Pinecone, ServerlessSpec\n",
    "\n",
    "pc = Pinecone()"
   ]
  },
  {
   "cell_type": "markdown",
   "metadata": {},
   "source": [
    "# Document Loader"
   ]
  },
  {
   "cell_type": "code",
   "execution_count": 10,
   "metadata": {},
   "outputs": [
    {
     "name": "stdout",
     "output_type": "stream",
     "text": [
      "Text : PT Bintang Toedjoe \n",
      "Vision & Mission \n",
      "We are Consumer Health Company Bintang Toedjoe \n",
      "PT. Bintang Toedjoe was founded in Garut, West Java, on April 29 1946 by Tan Jun She (a \n",
      "sinshe), Tjia Pu Tjien an\n",
      "Metadata : {'producer': 'Microsoft® Word LTSC', 'creator': 'Microsoft® Word LTSC', 'creationdate': '2025-03-04T20:35:42+07:00', 'author': 'Gemitry', 'moddate': '2025-03-04T20:35:42+07:00', 'source': '../data/PT Bintang Toedjoe.pdf', 'total_pages': 16, 'page': 0, 'page_label': '1'}\n",
      "Length : 2902\n"
     ]
    }
   ],
   "source": [
    "pdf_loader = PyPDFLoader(\"../data/PT Bintang Toedjoe.pdf\")\n",
    "docs = pdf_loader.load()\n",
    "\n",
    "print(f\"Text : {docs[0].page_content[:200]}\")\n",
    "print(f\"Metadata : {docs[0].metadata}\")\n",
    "print(f\"Length : {len(docs[0].page_content)}\")"
   ]
  },
  {
   "cell_type": "markdown",
   "metadata": {},
   "source": [
    "# Document Splitter"
   ]
  },
  {
   "cell_type": "code",
   "execution_count": 11,
   "metadata": {},
   "outputs": [
    {
     "name": "stdout",
     "output_type": "stream",
     "text": [
      "Text : PT Bintang Toedjoe \n",
      "Vision & Mission \n",
      "We are Consumer Health Company Bintang Toedjoe \n",
      "PT. Bintang Toedjoe was founded in Garut, West Java, on April 29 1946 by Tan Jun She (a \n",
      "sinshe), Tjia Pu Tjien and Hioe On Tjan. The name was chosen based on the number of \n",
      "Tan Jun She's daughters, namely seven daughters. With only traditional equipment and a \n",
      "few employees at that time, PT Bintang Toedjoe succeeded in producing over-the-counter\n",
      "Metadata : {'producer': 'Microsoft® Word LTSC', 'creator': 'Microsoft® Word LTSC', 'creationdate': '2025-03-04T20:35:42+07:00', 'author': 'Gemitry', 'moddate': '2025-03-04T20:35:42+07:00', 'source': '../data/PT Bintang Toedjoe.pdf', 'total_pages': 16, 'page': 0, 'page_label': '1'}\n",
      "Length : 434\n"
     ]
    }
   ],
   "source": [
    "splitter = RecursiveCharacterTextSplitter(chunk_size=500, chunk_overlap=100)\n",
    "docs_splitted = splitter.split_documents(docs)\n",
    "\n",
    "print(f\"Text : {docs_splitted[0].page_content}\")\n",
    "print(f\"Metadata : {docs_splitted[0].metadata}\")\n",
    "print(f\"Length : {len(docs_splitted[0].page_content)}\")"
   ]
  },
  {
   "cell_type": "markdown",
   "metadata": {},
   "source": [
    "# Vector Store"
   ]
  },
  {
   "cell_type": "code",
   "execution_count": null,
   "metadata": {},
   "outputs": [
    {
     "data": {
      "text/plain": [
       "['51e37468-69e6-46ce-be18-b8c59a99a70a',\n",
       " '5b89b9db-d0ab-451a-9081-4893f3a2c75f',\n",
       " '5bf67780-f2c1-4335-b785-908126b936cf',\n",
       " '5ac606f3-75de-4edc-bdff-ed718194409a',\n",
       " 'bbed41e0-8e94-4556-a775-110b67229f0d',\n",
       " 'c1ff4264-824a-4ee8-aa39-7762b56a0b8f',\n",
       " 'a4c73016-5c74-4402-bcfc-710d2a8d82ae',\n",
       " '27ec841b-d255-4154-bc77-d94e3ea1eaec',\n",
       " 'd240c693-1146-48bc-8a3d-262928cbb52b',\n",
       " 'd7bf7fc2-a57e-4bb0-91d8-b0534a21b7cf',\n",
       " '16c4f245-6d7d-47ab-a8e3-53de74f06f3a',\n",
       " '532ee091-cc37-4c3b-a810-fa9d0dca5a25',\n",
       " '5c2cc9f4-2bcb-4e7b-b936-9d6efce85515',\n",
       " 'e67cf95a-dca4-4b6f-be7b-ceadb12dc5f7',\n",
       " '63c89f9a-c3cc-4979-8c38-818866a3fcaf',\n",
       " 'ef9d992e-0371-41de-bbe3-7c2826a7223c',\n",
       " '2437bb61-8d8c-4781-96da-6ef1c033e03a',\n",
       " 'd145a24c-b1b7-45b7-9d08-68730b5301d7',\n",
       " '53ca3d25-44ae-4c24-a051-ec867763daa7',\n",
       " 'ccb8ba8d-4344-475e-80f9-0f8027cf8b83',\n",
       " 'ca0fc533-6430-4410-98c2-b805a40d87cf',\n",
       " '5697fffa-8f06-4f3b-8583-fb86b0137a7c',\n",
       " '936e4f64-4c2c-47e5-8916-c78cd5661501',\n",
       " '9516cab4-9bc2-4664-9345-acd8d6409dcb',\n",
       " '52c9f0a5-dd11-4f93-a3bd-2d0f8791c852',\n",
       " '3e6669aa-b859-48b4-9ebf-811b480cda71',\n",
       " 'bb5de92a-90c2-4be3-9d20-771b4ae993c5',\n",
       " 'cb4c17d2-b098-4b36-9532-d2b57ccd880e',\n",
       " '595b2f7b-2923-4cb8-b5d1-eaedc706f8b0',\n",
       " '8e34d757-793a-452e-96d6-78b387691e57',\n",
       " 'f17b00ba-efed-4071-a4ff-2741fdc97d07',\n",
       " '53dc732e-5a0e-46fa-b1e3-437046a0af65',\n",
       " '78ad2643-e27a-4c19-8cfc-2df648169c54',\n",
       " 'c8f5fcae-4398-4b02-a02a-40a3e66e3e57',\n",
       " 'ce3d6778-5917-49e4-af90-a37dfd52a5e7',\n",
       " '7f84ae43-9e0d-403b-877f-823635ba3498',\n",
       " 'fbc9cdfb-6a19-4c8d-8e33-a500ca220fe1',\n",
       " 'd685acb9-0069-42a0-9fbb-6f8c892d2e3e',\n",
       " '94ae5570-77be-4fb6-8cfe-dd969fccff59',\n",
       " '7e6d757b-9308-4538-b9d2-a19e96ebb42a',\n",
       " '81f0e3ba-5dcd-444d-81be-484bd3ebfec4',\n",
       " '6321a4f7-c446-47bb-bfea-1c8703c84191',\n",
       " '0b034b5b-4c30-4f5d-9af5-bc34fa9fedcc',\n",
       " '2f3d89ee-3caf-41b6-b628-409fabcc726c',\n",
       " 'c67212f4-0247-4db3-bed1-ca4426376518',\n",
       " 'cfb57d61-a845-4222-8a63-cf9a5c0004bb',\n",
       " '7865f1f6-1912-41f7-963c-1705530e7b1e',\n",
       " '59d62499-d390-499f-acc8-a1419c1661e7',\n",
       " '578e541a-c69a-4441-8037-12f9c5acfce2',\n",
       " 'ba125f50-f1ea-409c-abe2-d2be2c332524',\n",
       " 'd95d607d-e9f9-4d2c-bbbc-396c0d4869a5',\n",
       " '6ce0ae89-b016-48a3-8081-595fd7b4f7f4',\n",
       " 'b105d43e-b8af-4063-8ef4-de979565ece1',\n",
       " 'c5ce2e56-3a59-449b-b869-800a5a23ef67',\n",
       " '245a721d-c318-457d-9236-05087bd18ee3',\n",
       " '0402fe16-9c86-4f0d-b050-9f85fa87e0f1',\n",
       " 'f575c737-9e98-4c9f-bbe0-4b34779cb92c',\n",
       " 'fc0d63df-3843-4ffb-9b4a-334eae31d986',\n",
       " '42d6dc3f-4bbd-4129-8460-0207f1a6905f',\n",
       " '80810c93-1adf-4d7b-a292-27f6b73d2bda',\n",
       " '1a234baf-5a24-4edf-bd15-0ed1ce52e8b2',\n",
       " '60b59d3f-2d1a-434d-a6b7-48b7c442ee4f',\n",
       " '8a9c822b-6961-4f9a-aefa-658828645473',\n",
       " '39522b45-45c1-4774-b4b2-57568a7b9238',\n",
       " 'cad24bef-b6b6-4c6c-8a07-79f28bbf4faa',\n",
       " '01026832-afa5-4e58-90b8-5f86d2e2e1e2',\n",
       " '60ee2d3e-916c-4261-a34c-5da583f234f0']"
      ]
     },
     "execution_count": 21,
     "metadata": {},
     "output_type": "execute_result"
    }
   ],
   "source": [
    "from langchain_pinecone import PineconeVectorStore\n",
    "from langchain_google_genai.embeddings import GoogleGenerativeAIEmbeddings\n",
    "from uuid import uuid4\n",
    "\n",
    "embeddings = GoogleGenerativeAIEmbeddings(model=\"models/text-embedding-004\")\n",
    "\n",
    "vector_store = PineconeVectorStore(\n",
    "    index_name=\"chatb7\",\n",
    "    embedding=embeddings,\n",
    ")\n",
    "\n",
    "uuids = [str(uuid4()) for _ in range(len(docs_splitted))]\n",
    "vector_store.add_documents(documents=docs_splitted, ids=uuids)"
   ]
  },
  {
   "cell_type": "code",
   "execution_count": 25,
   "metadata": {},
   "outputs": [
    {
     "name": "stdout",
     "output_type": "stream",
     "text": [
      "PT Bintang Toedjoe \n",
      "Vision & Mission \n",
      "We are Consumer Health Company Bintang Toedjoe \n",
      "PT. Bintang Toedjoe was founded in Garut, West Java, on April 29 1946 by Tan Jun She (a \n",
      "sinshe), Tjia Pu Tjien and Hioe On Tjan. The name was chosen based on the number of \n",
      "Tan Jun She's daughters, namely seven daughters. With only traditional equipment and a \n",
      "few employees at that time, PT Bintang Toedjoe succeeded in producing over-the-counter\n",
      "\n",
      "actively in the company. Hopefully this award can be a motivation to continue to be better in the fu ture. \n",
      "Bintang Toedjoe… Better… Better… Better… Pasti Kelas Dunia!!  \n",
      "Management Forum Quality Assurance and \n",
      "Regulatory Affairs (MFQARA Forum) \n",
      "19 December 2024 \n",
      "Quality Assurance and Regulatory Affairs \n",
      "Awarded by Kalbe Corporate Manufacturing, Quality Assurance & Regulatory \n",
      "Affair \n",
      "Thursday, December 19, 2024 PT Bintang Toedjoe won the an award at the MFQARA Forum XV event held\n",
      "\n"
     ]
    }
   ],
   "source": [
    "results = vector_store.similarity_search(\n",
    "    \"Apa itu Bintang Toedjoe?\",\n",
    "    k=2,\n",
    ")\n",
    "\n",
    "for result in results:\n",
    "    print(result.page_content, end=\"\\n\\n\")"
   ]
  },
  {
   "cell_type": "markdown",
   "metadata": {},
   "source": [
    "# Chain"
   ]
  },
  {
   "cell_type": "code",
   "execution_count": 30,
   "metadata": {},
   "outputs": [
    {
     "data": {
      "text/plain": [
       "'Extra Joss Laki Anggur adalah suplemen kesehatan yang diproduksi oleh PT Bintang Toedjoe. Suplemen ini memiliki manfaat untuk membantu menjaga stamina dan menyegarkan tubuh. Extra Joss Laki Anggur hadir dalam bentuk sachet dan memiliki varian rasa anggur.\\n\\nBerikut beberapa informasi penting mengenai Extra Joss Laki Anggur:\\n\\n*   **Indikasi:** Membantu menjaga stamina dan menyegarkan tubuh.\\n*   **Dosis:** 1-3 kali sehari, 1 sachet setiap kali minum.\\n*    **Varian:** Rasa Anggur\\n*   **Kemasan:** Tersedia dalam kemasan berisi 6 sachet (@4g) dan 12 sachet (@4g).\\n* **Komposisi:**\\n    *   Kofein 50 mg\\n    *   Ekstrak Ginseng Bubuk 35 mg\\n    *   Vitamin B3 15 mg\\n    *   Vitamin B6 2 mg\\n    *   Vitamin B12 2.14 mcg\\n    *   Royal Jelly 2 mg\\n    *   Vitamin B5 5mg\\n    *   Vitamin B2\\n\\n**Peringatan & Perhatian:**\\n\\n*   Tidak dianjurkan untuk penderita hipertensi dan diabetes.\\n*   Tidak dianjurkan untuk anak-anak, wanita hamil, dan ibu menyusui.\\n*   Harap ikuti anjuran pemakaian.\\n*   Mengandung pemanis buatan Aspartam dan Acesulfame-K.\\n*   Mengandung Fenilalanin, tidak dianjurkan untuk penderita fenilketonuria.\\n\\nSemoga informasi ini bermanfaat!'"
      ]
     },
     "metadata": {},
     "output_type": "display_data"
    }
   ],
   "source": [
    "from langchain.chains.question_answering import load_qa_chain\n",
    "from langchain_google_genai.llms import GoogleGenerativeAI\n",
    "from langchain.prompts import PromptTemplate\n",
    "\n",
    "PROMPT_TEMPLATE = \"\"\"\n",
    "Kamu adalah asisten AI yang membantu menjawab pertanyaan tentang PT Bintang Toedjoe menggunakan konteks yang diberikan.\n",
    "Berikan jawaban yang lengkap, informatif, dan dalam Bahasa Indonesia yang natural dan ramah.\n",
    "\n",
    "Konteks:\n",
    "{context}\n",
    "\n",
    "Pertanyaan:\n",
    "{question}\n",
    "\n",
    "Jawaban (dalam Bahasa Indonesia yang natural dan informatif):\n",
    "\"\"\"\n",
    "\n",
    "PROMPT = PromptTemplate(\n",
    "    template=PROMPT_TEMPLATE,\n",
    "    input_variables=[\"context\", \"question\"],\n",
    ")\n",
    "\n",
    "llm = GoogleGenerativeAI(model=\"gemini-2.0-pro-exp-02-05\")\n",
    "chain = load_qa_chain(llm, chain_type=\"stuff\", prompt=PROMPT)\n",
    "\n",
    "query = \"Apa itu Extra Joss Laki Anggur?\"\n",
    "docs = vector_store.similarity_search(query, k=5)\n",
    "\n",
    "result = chain.run(input_documents=docs, question=query)\n",
    "display(result) "
   ]
  },
  {
   "cell_type": "code",
   "execution_count": null,
   "metadata": {},
   "outputs": [],
   "source": []
  }
 ],
 "metadata": {
  "kernelspec": {
   "display_name": ".venv",
   "language": "python",
   "name": "python3"
  },
  "language_info": {
   "codemirror_mode": {
    "name": "ipython",
    "version": 3
   },
   "file_extension": ".py",
   "mimetype": "text/x-python",
   "name": "python",
   "nbconvert_exporter": "python",
   "pygments_lexer": "ipython3",
   "version": "3.10.16"
  }
 },
 "nbformat": 4,
 "nbformat_minor": 2
}
